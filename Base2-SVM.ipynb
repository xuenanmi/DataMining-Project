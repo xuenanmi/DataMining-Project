{
 "cells": [
  {
   "cell_type": "code",
   "execution_count": 8,
   "metadata": {},
   "outputs": [],
   "source": [
    "#implement the second baseline method ---SVM\n",
    "import numpy as np\n",
    "import deepchem as dc\n",
    "import pandas as pd\n",
    "from sklearn.svm import SVC"
   ]
  },
  {
   "cell_type": "code",
   "execution_count": 9,
   "metadata": {},
   "outputs": [],
   "source": [
    "#load train dataset and test dataset\n",
    "train_dataset_file = \"train_dataset.csv\"\n",
    "test_dataset_file = \"test_dataset.csv\""
   ]
  },
  {
   "cell_type": "code",
   "execution_count": 10,
   "metadata": {},
   "outputs": [],
   "source": [
    "#get the list of all GPCR names in input file\n",
    "df = pd.read_csv('Input_Pos10Neg10.csv')\n",
    "df1 = df.drop(['ChEMBL_ID', 'Smiles'], axis = 1) \n",
    "GPCR_tasks=list(df1.columns.values)"
   ]
  },
  {
   "cell_type": "code",
   "execution_count": 11,
   "metadata": {},
   "outputs": [],
   "source": [
    "loader = dc.data.CSVLoader(tasks=GPCR_tasks, smiles_field=\"Smiles\",featurizer=dc.feat.CircularFingerprint(size=1024))"
   ]
  },
  {
   "cell_type": "code",
   "execution_count": 12,
   "metadata": {},
   "outputs": [
    {
     "name": "stdout",
     "output_type": "stream",
     "text": [
      "Loading raw samples now.\n",
      "shard_size: 8192\n",
      "About to start loading CSV from train_dataset.csv\n",
      "Loading shard 1 of size 8192.\n",
      "Featurizing sample 0\n",
      "Featurizing sample 1000\n",
      "Featurizing sample 2000\n",
      "Featurizing sample 3000\n",
      "Featurizing sample 4000\n",
      "Featurizing sample 5000\n",
      "Featurizing sample 6000\n",
      "TIMING: featurizing shard 0 took 15.064 s\n",
      "TIMING: dataset construction took 15.358 s\n",
      "Loading dataset from disk.\n"
     ]
    }
   ],
   "source": [
    "#feature enginnering, convert each ligand (in train set)into 1024 dimensional vector using ECFP4 method\n",
    "train_dataset = loader.featurize(train_dataset_file)"
   ]
  },
  {
   "cell_type": "code",
   "execution_count": 13,
   "metadata": {},
   "outputs": [
    {
     "name": "stdout",
     "output_type": "stream",
     "text": [
      "Loading raw samples now.\n",
      "shard_size: 8192\n",
      "About to start loading CSV from test_dataset.csv\n",
      "Loading shard 1 of size 8192.\n",
      "Featurizing sample 0\n",
      "Featurizing sample 1000\n",
      "TIMING: featurizing shard 0 took 4.032 s\n",
      "TIMING: dataset construction took 4.160 s\n",
      "Loading dataset from disk.\n"
     ]
    }
   ],
   "source": [
    "#feature enginnering, convert each ligand (in test set)into 1024 dimensional vector using ECFP4 method\n",
    "test_dataset = loader.featurize(test_dataset_file)"
   ]
  },
  {
   "cell_type": "code",
   "execution_count": 27,
   "metadata": {},
   "outputs": [],
   "source": [
    "#using AUC score to evaluate the prediction\n",
    "metric = dc.metrics.roc_auc_score"
   ]
  },
  {
   "cell_type": "code",
   "execution_count": 28,
   "metadata": {},
   "outputs": [],
   "source": [
    "#get the true value in test set\n",
    "y_true = test_dataset.y"
   ]
  },
  {
   "cell_type": "code",
   "execution_count": 26,
   "metadata": {},
   "outputs": [
    {
     "name": "stdout",
     "output_type": "stream",
     "text": [
      "5ht1d_rat 0.8571428571428572\n",
      "ackr3_human 0.953939026407189\n",
      "ccr1_human 0.985996654699739\n",
      "ccr1_mouse 0.9353813559322034\n",
      "ccr2_human 0.9860833799217316\n",
      "ccr2_mouse 0.9350669099756691\n",
      "ccr3_human 0.9926389189326751\n",
      "ccr3_mouse 0.8990936555891239\n",
      "ccr3_rat 0.9993961352657005\n",
      "ccr4_human 0.9607701861649203\n",
      "ccr5_human 0.9807162059695319\n",
      "ccr5_mouse 0.9148462783171522\n",
      "ccr6_human 0.8934935496397292\n",
      "ccr8_human 1.0\n",
      "ccr9_human 1.0\n",
      "ccrl2_human 1.0\n",
      "cx3c1_human 0.9996956786366402\n",
      "cxcr1_human 0.9425542804805775\n",
      "cxcr2_human 0.9837517910723469\n",
      "cxcr3_human 0.9888888888888889\n",
      "cxcr3_mouse 0.9945388349514562\n",
      "cxcr3_rat 0.7490952955367913\n",
      "cxcr4_human 0.9902762044908373\n",
      "cxcr5_human 0.9996966019417476\n",
      "q9jly8_rat 0.9972776769509981\n"
     ]
    }
   ],
   "source": [
    "#using SVM classifier in sklearn package\n",
    "for i in range(len(GPCR_tasks)):\n",
    "    SVM_model = SVC(C=1.0, class_weight=\"balanced\", probability=True)\n",
    "    SVM_model.fit(train_dataset.X, train_dataset.y[:,i])\n",
    "    y_pred = SVM_model.predict(test_dataset.X)\n",
    "    score = metric(y_true[:,i], y_pred)\n",
    "    print(GPCR_tasks[i], score)   "
   ]
  },
  {
   "cell_type": "code",
   "execution_count": null,
   "metadata": {},
   "outputs": [],
   "source": []
  }
 ],
 "metadata": {
  "kernelspec": {
   "display_name": "Python 3",
   "language": "python",
   "name": "python3"
  },
  "language_info": {
   "codemirror_mode": {
    "name": "ipython",
    "version": 3
   },
   "file_extension": ".py",
   "mimetype": "text/x-python",
   "name": "python",
   "nbconvert_exporter": "python",
   "pygments_lexer": "ipython3",
   "version": "3.7.3"
  }
 },
 "nbformat": 4,
 "nbformat_minor": 2
}
