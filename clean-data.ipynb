{
 "cells": [
  {
   "cell_type": "code",
   "execution_count": 1,
   "metadata": {},
   "outputs": [],
   "source": [
    "import pandas as pd\n",
    "import numpy as np\n",
    "import random\n",
    "import glob\n",
    "import itertools"
   ]
  },
  {
   "cell_type": "code",
   "execution_count": 2,
   "metadata": {},
   "outputs": [],
   "source": [
    "#read orginal dataset downloaded from GPCRdb \n",
    "Chemokine = pd.read_csv(\"ChemokineReceptor.csv\",sep=';')\n",
    "Chemokine = Chemokine[['ChEMBL ID', 'Receptor', 'Smiles']]\n",
    "Chemokine = Chemokine.rename(columns = {'ChEMBL ID':'ChEMBL_ID'})"
   ]
  },
  {
   "cell_type": "code",
   "execution_count": 3,
   "metadata": {},
   "outputs": [],
   "source": [
    "df = Chemokine[['ChEMBL_ID','Receptor']]"
   ]
  },
  {
   "cell_type": "code",
   "execution_count": 5,
   "metadata": {},
   "outputs": [],
   "source": [
    "receptors= Chemokine.Receptor.unique()\n",
    "ligands= Chemokine.ChEMBL_ID.unique()"
   ]
  },
  {
   "cell_type": "code",
   "execution_count": 6,
   "metadata": {},
   "outputs": [
    {
     "data": {
      "text/plain": [
       "(8296,)"
      ]
     },
     "execution_count": 6,
     "metadata": {},
     "output_type": "execute_result"
    }
   ],
   "source": [
    "ligands.shape"
   ]
  },
  {
   "cell_type": "code",
   "execution_count": 7,
   "metadata": {},
   "outputs": [
    {
     "data": {
      "text/plain": [
       "(39,)"
      ]
     },
     "execution_count": 7,
     "metadata": {},
     "output_type": "execute_result"
    }
   ],
   "source": [
    "receptors.shape"
   ]
  },
  {
   "cell_type": "code",
   "execution_count": 8,
   "metadata": {},
   "outputs": [],
   "source": [
    "#find all GPCR pairs which don't have overlap ligands\n",
    "df_receptors_comb = pd.DataFrame(columns = ['Receptor_X', 'Receptor_Y'])\n",
    "for i in range(0,len(receptors)):    #len(receptors)\n",
    "    non_overlap_rep = []\n",
    "    df_X = df[df['Receptor'] == receptors[i]]\n",
    "    #df_tmp = df[df['Receptor'] != receptors[0]]\n",
    "    df_tmp = df[~df.Receptor.isin(list(receptors[range(0,i+1)]))]  \n",
    "    other_repcetor = df_tmp.Receptor.unique()\n",
    "\n",
    "    for j in range(38 - i):\n",
    "        #df_tmp = df[~df.Receptor.isin(list(receptors[range(0,i+1)]))]    \n",
    "        df_Y = df_tmp[df_tmp['Receptor'] == other_repcetor[j]]\n",
    "        if (sum(df_X.ChEMBL_ID.isin(df_Y.ChEMBL_ID) ) == 0):\n",
    "            non_overlap_rep.append(other_repcetor[j])\n",
    "    \n",
    "    rep_X = np.repeat(receptors[i], len(non_overlap_rep))\n",
    "    d = {'Receptor_X':rep_X,'Receptor_Y':non_overlap_rep}\n",
    "    df_comb = pd.DataFrame(d)\n",
    "    df_receptors_comb = df_receptors_comb.append(df_comb)"
   ]
  },
  {
   "cell_type": "code",
   "execution_count": 9,
   "metadata": {},
   "outputs": [],
   "source": [
    "Non_overlap_ReceptorX = df_receptors_comb.Receptor_X.unique()"
   ]
  },
  {
   "cell_type": "code",
   "execution_count": 10,
   "metadata": {},
   "outputs": [],
   "source": [
    "####for each receptor X, generate negative data using receptorX + Ligands from receptorY \n",
    "#####receptorY is the receptor has no same ligands with receptorX\n",
    "all_negative_dataset = pd.DataFrame(columns = ['negative_rep', 'negative_ligand'])\n",
    "for i in range(0,len(Non_overlap_ReceptorX)):\n",
    "    df_comb_sub = df_receptors_comb[df_receptors_comb['Receptor_X'] == Non_overlap_ReceptorX[i]]\n",
    "    df_original_sub = df[df.Receptor.isin(df_comb_sub.Receptor_Y)]\n",
    "    ligand_select = df_original_sub.ChEMBL_ID.unique()\n",
    "    negative_rep = np.repeat(Non_overlap_ReceptorX[i], len(ligand_select))\n",
    "    d0 = {'negative_rep':negative_rep,'negative_ligand':ligand_select}\n",
    "    negative_df = pd.DataFrame(d0)\n",
    "    all_negative_dataset = all_negative_dataset.append(negative_df)"
   ]
  },
  {
   "cell_type": "code",
   "execution_count": 11,
   "metadata": {},
   "outputs": [
    {
     "data": {
      "text/plain": [
       "(24489, 2)"
      ]
     },
     "execution_count": 11,
     "metadata": {},
     "output_type": "execute_result"
    }
   ],
   "source": [
    "all_negative_dataset.shape"
   ]
  },
  {
   "cell_type": "code",
   "execution_count": 12,
   "metadata": {},
   "outputs": [],
   "source": [
    "random.seed(8)\n",
    "negative = all_negative_dataset.sample(n = 9166)"
   ]
  },
  {
   "cell_type": "code",
   "execution_count": 13,
   "metadata": {},
   "outputs": [],
   "source": [
    "negative = negative[['negative_ligand','negative_rep']]\n",
    "negative = negative.rename(columns = {'negative_ligand':'ChEMBL_ID', 'negative_rep' : 'Receptor'})"
   ]
  },
  {
   "cell_type": "code",
   "execution_count": 14,
   "metadata": {},
   "outputs": [],
   "source": [
    "positive = df"
   ]
  },
  {
   "cell_type": "code",
   "execution_count": 15,
   "metadata": {},
   "outputs": [],
   "source": [
    "pos_neg = positive.append(negative)"
   ]
  },
  {
   "cell_type": "code",
   "execution_count": 16,
   "metadata": {},
   "outputs": [
    {
     "data": {
      "text/plain": [
       "(18332, 2)"
      ]
     },
     "execution_count": 16,
     "metadata": {},
     "output_type": "execute_result"
    }
   ],
   "source": [
    "pos_neg.shape"
   ]
  },
  {
   "cell_type": "code",
   "execution_count": 17,
   "metadata": {},
   "outputs": [],
   "source": [
    "receptor= df.Receptor.unique()\n",
    "ligand = df.ChEMBL_ID.unique()\n",
    "df_long = pd.DataFrame(list(itertools.product(ligand,receptor)),columns=['ChEMBL_ID','Receptor'])"
   ]
  },
  {
   "cell_type": "code",
   "execution_count": 18,
   "metadata": {},
   "outputs": [],
   "source": [
    "df_merge_pos = pd.merge(df_long, positive, on = ['ChEMBL_ID','Receptor'], how = 'left',indicator = 'pos_exist')\n",
    "df_merge_pos['pos_exist'] = np.where(df_merge_pos.pos_exist == 'both', 1, 2)"
   ]
  },
  {
   "cell_type": "code",
   "execution_count": 19,
   "metadata": {},
   "outputs": [
    {
     "data": {
      "text/plain": [
       "2    314378\n",
       "1      9166\n",
       "Name: pos_exist, dtype: int64"
      ]
     },
     "execution_count": 19,
     "metadata": {},
     "output_type": "execute_result"
    }
   ],
   "source": [
    "df_merge_pos['pos_exist'].value_counts()"
   ]
  },
  {
   "cell_type": "code",
   "execution_count": 20,
   "metadata": {},
   "outputs": [],
   "source": [
    "df_merge_pos_neg = pd.merge(df_merge_pos, negative, on = ['ChEMBL_ID','Receptor'], how = 'left',indicator = 'neg_exist')\n",
    "df_merge_pos_neg['neg_exist'] = np.where(df_merge_pos_neg.neg_exist == 'both', 0, 2)"
   ]
  },
  {
   "cell_type": "code",
   "execution_count": 21,
   "metadata": {},
   "outputs": [
    {
     "data": {
      "text/plain": [
       "2    314378\n",
       "0      9166\n",
       "Name: neg_exist, dtype: int64"
      ]
     },
     "execution_count": 21,
     "metadata": {},
     "output_type": "execute_result"
    }
   ],
   "source": [
    "df_merge_pos_neg['neg_exist'].value_counts()"
   ]
  },
  {
   "cell_type": "code",
   "execution_count": 22,
   "metadata": {},
   "outputs": [],
   "source": [
    "df_merge_pos_neg.loc[(df_merge_pos_neg['pos_exist'] == 1) & (df_merge_pos_neg['neg_exist'] == 2), 'indicator'] = 1\n",
    "df_merge_pos_neg.loc[(df_merge_pos_neg['pos_exist'] == 2) & (df_merge_pos_neg['neg_exist'] == 0), 'indicator'] = 0\n",
    "df_merge_pos_neg.loc[(df_merge_pos_neg['pos_exist'] == 2) & (df_merge_pos_neg['neg_exist'] == 2), 'indicator'] = ''"
   ]
  },
  {
   "cell_type": "code",
   "execution_count": 23,
   "metadata": {},
   "outputs": [],
   "source": [
    "df_merge_pos_neg1 = df_merge_pos_neg.drop(columns = ['pos_exist','neg_exist'])"
   ]
  },
  {
   "cell_type": "code",
   "execution_count": 24,
   "metadata": {},
   "outputs": [],
   "source": [
    "df_wide= df_merge_pos_neg.pivot(index='ChEMBL_ID', columns='Receptor', values='indicator')"
   ]
  },
  {
   "cell_type": "code",
   "execution_count": 25,
   "metadata": {},
   "outputs": [],
   "source": [
    "smile=Chemokine[['ChEMBL_ID','Smiles']].drop_duplicates()"
   ]
  },
  {
   "cell_type": "code",
   "execution_count": 26,
   "metadata": {},
   "outputs": [],
   "source": [
    "df_wide = pd.merge(df_wide,smile, on=['ChEMBL_ID'], how='inner')"
   ]
  },
  {
   "cell_type": "code",
   "execution_count": 27,
   "metadata": {},
   "outputs": [
    {
     "data": {
      "text/plain": [
       "(8296, 41)"
      ]
     },
     "execution_count": 27,
     "metadata": {},
     "output_type": "execute_result"
    }
   ],
   "source": [
    "df_wide.shape"
   ]
  },
  {
   "cell_type": "code",
   "execution_count": 28,
   "metadata": {},
   "outputs": [],
   "source": [
    "#df_wide.to_csv(\"/Users/Xuenan/Documents/UIUC/2020Fall/cs412/Project/Input_pos_neg.csv\",index=False)"
   ]
  },
  {
   "cell_type": "code",
   "execution_count": 29,
   "metadata": {},
   "outputs": [],
   "source": [
    "df1 = df_wide.drop(['ChEMBL_ID', 'Smiles'], axis = 1)\n",
    "df2 = df_wide[['ChEMBL_ID','Smiles']]"
   ]
  },
  {
   "cell_type": "code",
   "execution_count": 30,
   "metadata": {},
   "outputs": [],
   "source": [
    "aa = df1.apply(pd.value_counts) #count postive and negtive number of each receptor\n",
    "bb = aa.T #transpose the matrix, making GPCR names in row\n",
    "bb.rename(columns = {0.0: 'count0'},inplace = True)\n",
    "bb.rename(columns = {1.0: 'count1'},inplace = True)"
   ]
  },
  {
   "cell_type": "code",
   "execution_count": 31,
   "metadata": {},
   "outputs": [],
   "source": [
    "bb.loc[(bb['count0'] > 10) & (bb['count1'] > 10), 'indicator'] = 'True' #select the receptors inclduing >10 pos and >10 neg\n",
    "cc = bb.indicator[bb.indicator == 'True'].index.tolist() # get the list of select receptors\n",
    "dd = df1[cc] # filter the dataframe based on the list,25 receptors satisfy the condition"
   ]
  },
  {
   "cell_type": "code",
   "execution_count": 32,
   "metadata": {},
   "outputs": [
    {
     "data": {
      "text/plain": [
       "(8296, 27)"
      ]
     },
     "execution_count": 32,
     "metadata": {},
     "output_type": "execute_result"
    }
   ],
   "source": [
    "df_c = pd.concat([dd, df2], axis=1)\n",
    "df_c.shape"
   ]
  },
  {
   "cell_type": "code",
   "execution_count": 33,
   "metadata": {},
   "outputs": [],
   "source": [
    "df_c.to_csv('Input_Pos10Neg10.csv',index = False) ##generate the final input dataset, including 25 GPCRs and 8296 ligands"
   ]
  },
  {
   "cell_type": "code",
   "execution_count": 51,
   "metadata": {},
   "outputs": [],
   "source": [
    "random.seed(30)\n",
    "#split input dataset into training dataset and testing dataset based on the proportion 4:1\n",
    "train_dataset = df_c.sample(n=6636)\n",
    "train_dataset.to_csv('train_dataset.csv',index = False)"
   ]
  },
  {
   "cell_type": "code",
   "execution_count": 52,
   "metadata": {},
   "outputs": [],
   "source": [
    "test_dataset = df_c.drop(train_dataset.index)\n",
    "test_dataset.to_csv('test_dataset.csv',index = False)"
   ]
  },
  {
   "cell_type": "code",
   "execution_count": null,
   "metadata": {},
   "outputs": [],
   "source": []
  }
 ],
 "metadata": {
  "kernelspec": {
   "display_name": "Python 3",
   "language": "python",
   "name": "python3"
  },
  "language_info": {
   "codemirror_mode": {
    "name": "ipython",
    "version": 3
   },
   "file_extension": ".py",
   "mimetype": "text/x-python",
   "name": "python",
   "nbconvert_exporter": "python",
   "pygments_lexer": "ipython3",
   "version": "3.8.5"
  }
 },
 "nbformat": 4,
 "nbformat_minor": 2
}
