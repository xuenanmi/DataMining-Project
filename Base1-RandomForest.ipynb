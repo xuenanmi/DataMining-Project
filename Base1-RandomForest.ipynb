{
 "cells": [
  {
   "cell_type": "code",
   "execution_count": 13,
   "metadata": {},
   "outputs": [],
   "source": [
    "#implement the first baseline method ---Random forest\n",
    "import numpy as np\n",
    "import deepchem as dc\n",
    "import pandas as pd\n",
    "from sklearn.ensemble import RandomForestClassifier"
   ]
  },
  {
   "cell_type": "code",
   "execution_count": 14,
   "metadata": {},
   "outputs": [],
   "source": [
    "#load train dataset and test dataset\n",
    "train_dataset_file = \"train_dataset.csv\"\n",
    "test_dataset_file = \"test_dataset.csv\""
   ]
  },
  {
   "cell_type": "code",
   "execution_count": 15,
   "metadata": {},
   "outputs": [],
   "source": [
    "#get the list of all GPCR names in input file\n",
    "df = pd.read_csv('Input_Pos10Neg10.csv')\n",
    "df1 = df.drop(['ChEMBL_ID', 'Smiles'], axis = 1) \n",
    "GPCR_tasks=list(df1.columns.values)"
   ]
  },
  {
   "cell_type": "code",
   "execution_count": 16,
   "metadata": {},
   "outputs": [],
   "source": [
    "loader = dc.data.CSVLoader(tasks=GPCR_tasks, smiles_field=\"Smiles\",featurizer=dc.feat.CircularFingerprint(size=1024))"
   ]
  },
  {
   "cell_type": "code",
   "execution_count": 17,
   "metadata": {},
   "outputs": [
    {
     "name": "stdout",
     "output_type": "stream",
     "text": [
      "Loading raw samples now.\n",
      "shard_size: 8192\n",
      "About to start loading CSV from train_dataset.csv\n",
      "Loading shard 1 of size 8192.\n",
      "Featurizing sample 0\n",
      "Featurizing sample 1000\n",
      "Featurizing sample 2000\n",
      "Featurizing sample 3000\n",
      "Featurizing sample 4000\n",
      "Featurizing sample 5000\n",
      "Featurizing sample 6000\n",
      "TIMING: featurizing shard 0 took 15.191 s\n",
      "TIMING: dataset construction took 15.495 s\n",
      "Loading dataset from disk.\n"
     ]
    }
   ],
   "source": [
    "#feature enginnering, convert each ligand (in train set)into 1024 dimensional vector using ECFP4 method\n",
    "train_dataset = loader.featurize(train_dataset_file)"
   ]
  },
  {
   "cell_type": "code",
   "execution_count": 18,
   "metadata": {},
   "outputs": [
    {
     "name": "stdout",
     "output_type": "stream",
     "text": [
      "Loading raw samples now.\n",
      "shard_size: 8192\n",
      "About to start loading CSV from test_dataset.csv\n",
      "Loading shard 1 of size 8192.\n",
      "Featurizing sample 0\n",
      "Featurizing sample 1000\n",
      "TIMING: featurizing shard 0 took 4.012 s\n",
      "TIMING: dataset construction took 4.117 s\n",
      "Loading dataset from disk.\n"
     ]
    }
   ],
   "source": [
    "#feature enginnering, convert each ligand (in test set)into 1024 dimensional vector using ECFP4 method\n",
    "test_dataset = loader.featurize(test_dataset_file)"
   ]
  },
  {
   "cell_type": "code",
   "execution_count": 19,
   "metadata": {},
   "outputs": [],
   "source": [
    "#using random forest classifier in sklearn package\n",
    "sklearn_model = RandomForestClassifier(class_weight=\"balanced\")"
   ]
  },
  {
   "cell_type": "code",
   "execution_count": 20,
   "metadata": {},
   "outputs": [
    {
     "data": {
      "text/plain": [
       "RandomForestClassifier(bootstrap=True, ccp_alpha=0.0, class_weight='balanced',\n",
       "                       criterion='gini', max_depth=None, max_features='auto',\n",
       "                       max_leaf_nodes=None, max_samples=None,\n",
       "                       min_impurity_decrease=0.0, min_impurity_split=None,\n",
       "                       min_samples_leaf=1, min_samples_split=2,\n",
       "                       min_weight_fraction_leaf=0.0, n_estimators=100,\n",
       "                       n_jobs=None, oob_score=False, random_state=None,\n",
       "                       verbose=0, warm_start=False)"
      ]
     },
     "execution_count": 20,
     "metadata": {},
     "output_type": "execute_result"
    }
   ],
   "source": [
    "sklearn_model.fit(train_dataset.X, train_dataset.y)"
   ]
  },
  {
   "cell_type": "code",
   "execution_count": 12,
   "metadata": {},
   "outputs": [],
   "source": [
    "#get the true value in test set\n",
    "y_true = test_dataset.y\n",
    "#get the prediction value from the Random forest model\n",
    "y_pred = sklearn_model.predict(test_dataset.X)"
   ]
  },
  {
   "cell_type": "code",
   "execution_count": 112,
   "metadata": {},
   "outputs": [
    {
     "name": "stdout",
     "output_type": "stream",
     "text": [
      "5ht1d_rat 0.7142857142857143\n",
      "ackr3_human 0.8175753900435525\n",
      "ccr1_human 0.96875\n",
      "ccr1_mouse 0.6871973365617434\n",
      "ccr2_human 0.971842859551509\n",
      "ccr2_mouse 0.8434458637469586\n",
      "ccr3_human 0.9858917914720889\n",
      "ccr3_mouse 0.8996978851963747\n",
      "ccr3_rat 0.9996980676328502\n",
      "ccr4_human 0.9244121017491131\n",
      "ccr5_human 0.9758650996070862\n",
      "ccr5_mouse 0.7077265372168285\n",
      "ccr6_human 0.6046511627906976\n",
      "ccr8_human 0.9358974358974359\n",
      "ccr9_human 0.9772727272727273\n",
      "ccrl2_human 1.0\n",
      "cx3c1_human 0.9114603845189932\n",
      "cxcr1_human 0.8903749797963472\n",
      "cxcr2_human 0.9840788021907249\n",
      "cxcr3_human 0.9722222222222222\n",
      "cxcr3_mouse 0.8737864077669902\n",
      "cxcr3_rat 0.4996984318455971\n",
      "cxcr4_human 0.9742639663769467\n",
      "cxcr5_human 0.9583333333333333\n",
      "q9jly8_rat 0.7136807536081584\n"
     ]
    }
   ],
   "source": [
    "#using AUC score to evaluate the prediction\n",
    "metric = dc.metrics.roc_auc_score\n",
    "for i in range(len(GPCR_tasks)):\n",
    "    score = metric(y_true[:,i], y_pred[:,i])\n",
    "    print(GPCR_tasks[i], score)"
   ]
  },
  {
   "cell_type": "code",
   "execution_count": null,
   "metadata": {},
   "outputs": [],
   "source": []
  }
 ],
 "metadata": {
  "kernelspec": {
   "display_name": "Python 3",
   "language": "python",
   "name": "python3"
  },
  "language_info": {
   "codemirror_mode": {
    "name": "ipython",
    "version": 3
   },
   "file_extension": ".py",
   "mimetype": "text/x-python",
   "name": "python",
   "nbconvert_exporter": "python",
   "pygments_lexer": "ipython3",
   "version": "3.8.5"
  }
 },
 "nbformat": 4,
 "nbformat_minor": 2
}
